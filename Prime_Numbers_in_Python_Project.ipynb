{
  "nbformat": 4,
  "nbformat_minor": 0,
  "metadata": {
    "colab": {
      "provenance": []
    },
    "kernelspec": {
      "name": "python3",
      "display_name": "Python 3"
    },
    "language_info": {
      "name": "python"
    }
  },
  "cells": [
    {
      "cell_type": "code",
      "execution_count": 51,
      "metadata": {
        "id": "SHlEbRMYXThS"
      },
      "outputs": [],
      "source": [
        "def is_prime(n):\n",
        "  if n ==0 or n==1 :\n",
        "    print(\"not a prime\")\n",
        "    return False\n",
        "  else:\n",
        "    for i in range(2,n) :\n",
        "      if n%i ==0  :\n",
        "\n",
        "        return False\n",
        "    else :\n",
        "\n",
        "        return True"
      ]
    },
    {
      "cell_type": "code",
      "source": [
        "is_prime(827)"
      ],
      "metadata": {
        "colab": {
          "base_uri": "https://localhost:8080/"
        },
        "id": "SYY1MdRndvGl",
        "outputId": "5a6ae354-9c50-4045-b948-fa44282afe9c"
      },
      "execution_count": 54,
      "outputs": [
        {
          "output_type": "execute_result",
          "data": {
            "text/plain": [
              "True"
            ]
          },
          "metadata": {},
          "execution_count": 54
        }
      ]
    },
    {
      "cell_type": "code",
      "source": [
        "count = 0\n",
        "for i in range(100, 152):  # Include the end value\n",
        "        if is_prime(i):\n",
        "            count += 1  # Increment count for each prime found\n",
        "print(count)"
      ],
      "metadata": {
        "colab": {
          "base_uri": "https://localhost:8080/"
        },
        "id": "WRuCm-IyeQm0",
        "outputId": "edc904f8-98b4-44f5-8e26-815b6be95520"
      },
      "execution_count": 52,
      "outputs": [
        {
          "output_type": "stream",
          "name": "stdout",
          "text": [
            "11\n"
          ]
        }
      ]
    },
    {
      "cell_type": "markdown",
      "source": [],
      "metadata": {
        "id": "2OktHdJTdtxM"
      }
    }
  ]
}